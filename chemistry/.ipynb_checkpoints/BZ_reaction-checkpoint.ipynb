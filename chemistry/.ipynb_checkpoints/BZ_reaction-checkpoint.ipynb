{
 "cells": [
  {
   "cell_type": "markdown",
   "id": "a611c21a-7ff0-4055-8210-827f80a2f556",
   "metadata": {},
   "source": [
    "Check Wikipedia on the Belousov-Zhabotinsky reaction.\n",
    "Then look on YouTube for an example. \n",
    "See also Steve Mould on butane flames propagating around a circular channel. \n",
    "This is all related to neurons firing with a dampening / recovery time."
   ]
  }
 ],
 "metadata": {
  "kernelspec": {
   "display_name": "Python 3 (ipykernel)",
   "language": "python",
   "name": "python3"
  },
  "language_info": {
   "codemirror_mode": {
    "name": "ipython",
    "version": 3
   },
   "file_extension": ".py",
   "mimetype": "text/x-python",
   "name": "python",
   "nbconvert_exporter": "python",
   "pygments_lexer": "ipython3",
   "version": "3.11.4"
  }
 },
 "nbformat": 4,
 "nbformat_minor": 5
}
