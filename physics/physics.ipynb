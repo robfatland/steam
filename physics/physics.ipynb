{
 "cells": [
  {
   "cell_type": "markdown",
   "id": "3ab2c6f6-3916-450e-b920-c1579cc3b28a",
   "metadata": {},
   "source": [
    "# physics\n",
    "\n",
    "Selected problems"
   ]
  },
  {
   "cell_type": "markdown",
   "id": "9d2cbfaa-702f-4012-844f-318664fa9823",
   "metadata": {},
   "source": [
    "Coulomb's law uses constant $k = 9.0e9 \\frac{N \\cdot m^2}{C^2}$ in the expression for\n",
    "force between two particles as a scalar: $F = \\frac{k \\cdot q \\cdot Q}{(D + d)^2}$.\n",
    "Scaling $d$ by $D$ yields\n",
    "\n",
    "$\\begin{align}\n",
    "F = \\frac{kQq}{D^2 \\left(1+\\frac{d}{D} \\right)^2}\n",
    "\\end{align}$\n",
    "\n",
    "For $d \\ll D$ to first order one could ignore $d/D$. Better precision: Write the expression\n",
    "for force *retaining* $d/D$ as a polynomial in the numerator.\n",
    "\n",
    "\n",
    "I know of two approaches for this: One relying upon Taylor series and another using \n",
    "long division. \n",
    "\n",
    "\n",
    "## Taylor series\n",
    "\n",
    "\n",
    "Since we assert that $d/D$ is close to zero the starting point of\n",
    "the approximation is zero; so this is technically a *Maclaurin* series, a special case\n",
    "of Taylor. I will use $x = d / D$ to simplify notation.\n",
    "\n",
    "\n",
    "$\\begin{align}f(x) = (1 + x)^{-2}\\end{align}$\n",
    "\n",
    "\n",
    "$\\begin{align}f'(x) = -2(1+x)^{-3}\\end{align}$\n",
    "\n",
    "\n",
    "$\\begin{align}f''(x) = 6(1+x)^{-4}\\end{align}$\n",
    "\n",
    "\n",
    "$\\begin{align}f'''(x) = -24(1+x)^{-5}\\end{align}$\n",
    "\n",
    "\n",
    "Respectively evaluated at $x=0$ we have $f^{(i)}(0) = \\{1, -2, 6, -24\\}$.\n",
    "\n",
    "\n",
    "$\\begin{align}\n",
    "Maclaurin: \\; f(x) = \\sum_{i=0}^{\\infty} \\frac{f^{(i)}(0)}{i!}x^i\n",
    "\\end{align}$\n",
    "\n",
    "\n",
    "Combining together we get\n",
    "\n",
    "\n",
    "$\\begin{align}\n",
    "f(x) = \\; & 1 - 2x + \\frac{6}{2}x^2 - \\frac{24}{6} x^3 + \\cdots \\\\\n",
    "     & 1 - 2x + 3x^2 - 4x^3 + \\cdots\n",
    "\\end{align}$\n",
    "\n",
    "\n",
    "So the force equation is then to whatever degree of precision we need:\n",
    "\n",
    "$\\begin{align}\n",
    "F = \\frac{kQq}{D^2}\\left( 1 - \\frac{2d}{D} + \\frac{3d^2}{D^2} - \\frac{4d^3}{D^3} + \\cdots \\right)\n",
    "\\end{align}$\n",
    "\n",
    "\n",
    "## Long division approach\n",
    "\n",
    "\n",
    "Write:\n",
    "\n",
    "\n",
    "$\\begin{align}\n",
    "& \\_\\_\\_\\_\\_\\_\\_\\_\\_\\_\\_\\_\\_\\_\\_\\_\\_\\_\\_\\_\\_\\_\\_\\_\\_\\_\\_\\_ \\\\\n",
    "1 + 2x + x^2 \\;\\;\\; & ) \\; \\; 1\n",
    "\\end{align}$\n",
    "\n",
    "\n",
    "Then start writing the quotient by inspection. The first term is $1$ which is multiplied \n",
    "by $1 + 2x + x^2$; and this is subtracted from $1$ giving $-2x - x^2$. The second term\n",
    "of the quotient is therefore $-2x$ and so on. This procedure gives \n",
    "$1 - 2x + 3x^2 -4x^3 + \\cdots$ directly with no mucking about in hyperspace."
   ]
  },
  {
   "cell_type": "markdown",
   "id": "72f1ce1a-bd00-4555-ae7b-41d18c7a9da1",
   "metadata": {},
   "source": [
    "## Problem on 2 and 3 colinear charges\n",
    "\n",
    "\n",
    "Off-axis charges will be subject to a net (unbalanced) force in one or both of $\\hat{i}$ or $\\hat{j}$. \n",
    "Charges with $F = 0$ must be on the x-axis."
   ]
  },
  {
   "cell_type": "code",
   "execution_count": 1,
   "id": "68c13c19-1a72-4ebc-9b5b-b0bc8e12a078",
   "metadata": {},
   "outputs": [
    {
     "name": "stdout",
     "output_type": "stream",
     "text": [
      "(a) On right charge: Force on charge 2 from charge 1 is -4.494e-09 Newtons relative to +x axis; Fy is zero.\n",
      "(b) On left charge: Force on charge 2 from charge 1 is 4.494e-09 Newtons relative to +x axis; Fy is zero.\n"
     ]
    }
   ],
   "source": [
    "import numpy as np\n",
    "\n",
    "k = 8.98755e9        # Newton meters squared per Coulomb squared\n",
    "\n",
    "def F_on_Q2(q1, x1, q2, x2):\n",
    "    '''Force exerted along the axis'''\n",
    "    if x1 == x2: return np.inf\n",
    "    r = np.fabs(x2 - x1)\n",
    "    f = k*q1*q2/r**2\n",
    "    if x1 > x2: f *= -1.\n",
    "    return f\n",
    "\n",
    "def BuildForceString(q1, x1, q2, x2):\n",
    "    '''Return a narrative string on force exerted, Coulomb's law'''\n",
    "    msg  = 'Force on charge 2 from charge 1 is '\n",
    "    msg += str(round(F_on_Q2(q1, x1, q2, x2), 12))\n",
    "    msg += ' Newtons relative to +x axis; Fy is zero.'\n",
    "    return msg\n",
    "\n",
    "print('(a) On right charge: ' + BuildForceString(-1e-9, -1, 2e-9, 1))\n",
    "print('(b) On left charge: ' + BuildForceString(2e-9, 1, -1e-9, -1))"
   ]
  },
  {
   "cell_type": "markdown",
   "id": "29a8113b-24d5-4e89-aeb3-c73d39062510",
   "metadata": {},
   "source": [
    "(c) For a test charge $+q$ at $x$ we can set the net force to zero. This can result in \n",
    "two roots of a quadratic that are candidate locations for the third charge. However\n",
    "one of these solutions is on $(-1, 1)$ where the electrostatic forces will be in the \n",
    "same direction; so the forces do not cancel. A second solution from this quadratic\n",
    "is at $x < 1$ and this gives a net zero force. "
   ]
  },
  {
   "cell_type": "code",
   "execution_count": 2,
   "id": "17a7e134-33f3-4d1a-970b-1a6e3168c4c1",
   "metadata": {},
   "outputs": [
    {
     "name": "stdout",
     "output_type": "stream",
     "text": [
      "\n",
      "(d) only one root of x**2 + 6x + 1 gives a net zero force on (+q)\n",
      "\n",
      "Forces add for -3 + 2 sqrt(2):\n",
      "x = -0.1715728752538097\n",
      "-1.309582005125315e-08\n",
      "-1.3095820051253162e-08\n",
      "\n",
      "Forces balance for -3 - 2 sqrt(2):\n",
      "x = -5.82842712474619\n",
      "3.855049487468449e-10\n",
      "-3.855049487468449e-10\n"
     ]
    }
   ],
   "source": [
    "print()\n",
    "print('(d) only one root of x**2 + 6x + 1 gives a net zero force on (+q)')\n",
    "print()\n",
    "x = -3 + 2*np.sqrt(2)\n",
    "print('Forces add for -3 + 2 sqrt(2):')\n",
    "print('x =', x)\n",
    "print(F_on_Q2(-1e-9, -1, 1e-9, x))\n",
    "print(F_on_Q2(2e-9, 1, 1e-9, x))\n",
    "\n",
    "print()\n",
    "print('Forces balance for -3 - 2 sqrt(2):')\n",
    "x = -3 - 2*np.sqrt(2)\n",
    "print('x =', x)\n",
    "print(F_on_Q2(-1e-9, -1, 1e-9, x))\n",
    "print(F_on_Q2(2e-9, 1, 1e-9, x))"
   ]
  },
  {
   "cell_type": "code",
   "execution_count": null,
   "id": "d10450b9-7bc7-4f52-b4a0-31611ae4704f",
   "metadata": {},
   "outputs": [],
   "source": []
  },
  {
   "cell_type": "code",
   "execution_count": null,
   "id": "567c2178-4a8e-431f-87b0-4c7a9d0986da",
   "metadata": {},
   "outputs": [],
   "source": []
  },
  {
   "cell_type": "code",
   "execution_count": null,
   "id": "5efaa3d6-7c16-4156-9556-e92ab7437103",
   "metadata": {},
   "outputs": [],
   "source": []
  }
 ],
 "metadata": {
  "kernelspec": {
   "display_name": "Python 3 (ipykernel)",
   "language": "python",
   "name": "python3"
  },
  "language_info": {
   "codemirror_mode": {
    "name": "ipython",
    "version": 3
   },
   "file_extension": ".py",
   "mimetype": "text/x-python",
   "name": "python",
   "nbconvert_exporter": "python",
   "pygments_lexer": "ipython3",
   "version": "3.11.4"
  }
 },
 "nbformat": 4,
 "nbformat_minor": 5
}
