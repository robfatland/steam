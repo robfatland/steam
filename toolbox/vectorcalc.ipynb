{
 "cells": [
  {
   "cell_type": "markdown",
   "id": "4f0441b4-0ce2-410b-872e-b4bfcb7e8751",
   "metadata": {},
   "source": [
    "# vector calculus notation\n",
    "\n",
    "How to write vector calculus expressions in markdown: The high-level *elegant* use of nabla etcetera; \n",
    "and the low-level explicit details for doing calculations.\n",
    "\n",
    "\n",
    "Nabla: $\\nabla$ also read as *del*. We are interested in using this *operator* in three differential calculus tasks. \n",
    "\n",
    "\n",
    "Nabla emphasizing vector $\\vec{\\nabla}$\n",
    "\n",
    "\n",
    "Partial derivative: Two equivalent LaTeX expressions are $\\frac{\\partial{Q}}{\\partial{t}}$ and $\\frac{\\partial Q}{\\partial t}$.\n",
    "\n",
    "\n",
    "Larger writing: $\\Large{\\frac{\\partial{Q}}{\\partial{t}}}$.\n",
    "\n",
    "\n",
    "On a line by itself, left-justified: \n",
    "\n",
    "\n",
    "$\\begin{align}\\frac{\\partial{Q}}{\\partial{t}}\\end{align}$"
   ]
  },
  {
   "cell_type": "markdown",
   "id": "a59b51d2-feca-43b8-8a4c-4876daa6c137",
   "metadata": {},
   "source": [
    "Now to go through the nabla operator business, starting in $n$ dimensions. A more complete\n",
    "story is [found on Wikipedia](https://en.wikipedia.org/wiki/Del) but I'm repeating some of \n",
    "that here for the sake of reinforcing the ideas.\n",
    "\n",
    "\n",
    "$\\begin{align}\\nabla = \\sum_{i=1}^n \\mathbf e_i {\\partial \\over \\partial x_i} = \\left({\\partial \\over \\partial x_1}, \\ldots, {\\partial \\over \\partial x_n} \\right)\\end{align}$\n",
    "\n",
    "\n",
    "so technically nabla is a vector and we are justified in writing $\\vec{\\nabla}$. \n",
    "\n",
    "\n",
    "Now to focus in on named 3D Cartesian coordinates:\n",
    "\n",
    "\n",
    "$\\begin{align} \\nabla = \\mathbf{e}_x {\\partial \\over \\partial x} + \\mathbf{e}_y {\\partial \\over \\partial y} + \\mathbf{e}_z {\\partial \\over \\partial z}= \\left({\\partial \\over \\partial x}, {\\partial \\over \\partial y}, {\\partial \\over \\partial z} \\right) \\end{align}$"
   ]
  },
  {
   "attachments": {},
   "cell_type": "markdown",
   "id": "1bf6c68b-b115-458d-9b3e-aee38252693b",
   "metadata": {},
   "source": [
    "Here is some Wikipedia-style markdown that extends from inner (dot) product or *divergence* to outer (cross) product or *curl*:\n",
    "\n",
    "\n",
    "\n",
    "$\\begin{align}\\left(\\mathbf{e}_i {\\partial \\over \\partial x_i}\\right) f := \n",
    "{\\partial \\over \\partial x_i}(\\mathbf{e}_i f) = {\\partial f \\over \\partial x_i}\\mathbf{e}_i\n",
    "\\end{align}$\n",
    "\n",
    "$\\begin{align}\\left(\\mathbf{e}_i {\\partial \\over \\partial x_i}\\right) \\cdot \\mathbf{F} := {\\partial \\over \\partial x_i}(\\mathbf{e}_i\\cdot \\mathbf{F}) = {\\partial F_i \\over \\partial x_i}\\end{align}$\n",
    "\n",
    "\n",
    "$\\begin{align}\\left(\\mathbf{e}_x {\\partial \\over \\partial x}\\right) \\times \\mathbf{F} := {\\partial \\over \\partial x}(\\mathbf{e}_x\\times \\mathbf{F}) = {\\partial \\over \\partial x}(0, -F_z, F_y)\\end{align}$\n",
    "\n",
    "\n",
    "$\\begin{align}\\left(\\mathbf{e}_y {\\partial \\over \\partial y}\\right) \\times \\mathbf{F} := {\\partial \\over \\partial y}(\\mathbf{e}_y\\times \\mathbf{F}) = {\\partial \\over \\partial y}(F_z,0,-F_x)\\end{align}$\n",
    "\n",
    "\n",
    "$\\begin{align}\\left(\\mathbf{e}_z {\\partial \\over \\partial z}\\right) \\times \\mathbf{F} := {\\partial \\over \\partial z}(\\mathbf{e}_z\\times \\mathbf{F}) = {\\partial \\over \\partial z}(-F_y,F_x,0),\\end{align}$\n",
    "\n"
   ]
  },
  {
   "cell_type": "markdown",
   "id": "4bc769a2-0a19-4696-8727-5ef94c07c4d5",
   "metadata": {},
   "source": [
    "So now we have the gradient of a scalar field which is a vector field, the \"direction of maximum increase\" of the scalar quantity:\n",
    "\n",
    "\n",
    "$\\begin{align} \\vec{\\nabla} f = \\left( \\mathbf{e}_x {\\partial \\over \\partial x} \\right) f + \n",
    "\\left( \\mathbf{e}_y {\\partial \\over \\partial y} \\right) f + \n",
    "\\left( \\mathbf{e}_z {\\partial \\over \\partial z} \\right) f \n",
    "=\n",
    "{\\partial f \\over \\partial x}\\mathbf{e}_x + \n",
    "{\\partial f \\over \\partial y}\\mathbf{e}_y + \n",
    "{\\partial f \\over \\partial z}\\mathbf{e}_z\n",
    "\\end{align}$"
   ]
  },
  {
   "cell_type": "markdown",
   "id": "b1ff98c7-303e-4eed-b913-25a78109b37a",
   "metadata": {},
   "source": [
    "The second operation is *divergence*: A scalar field derived from a vector field $\\mathbf{F}$.\n",
    "Note that this has the form of an inner (dot) product.\n",
    "\n",
    "\n",
    "$\\begin{align} \\nabla \\cdot \\mathbf{F} =\\left(\\mathbf{e}_x {\\partial \\over \\partial x}\\cdot \\mathbf{F}\\right) + \\left(\\mathbf{e}_y {\\partial \\over \\partial y}\\cdot \\mathbf{F}\\right) + \\left(\\mathbf{e}_z {\\partial \\over \\partial z}\\cdot \\mathbf{F}\\right)= {\\partial F_x \\over \\partial x} + {\\partial F_y \\over \\partial y} +  {\\partial F_z \\over \\partial z} \\end{align}$\n",
    "\n"
   ]
  },
  {
   "cell_type": "markdown",
   "id": "857e80f4-14d4-4916-815c-4ce69ead7815",
   "metadata": {},
   "source": [
    "$\\begin{align} \\left(\\mathbf{e}_x {\\partial \\over \\partial x}\\cdot \\mathbf{F}\\right) + \\left(\\mathbf{e}_y {\\partial \\over \\partial y}\\cdot \\mathbf{F}\\right) + \\left(\\mathbf{e}_z {\\partial \\over \\partial z}\\cdot \\mathbf{F}\\right)= {\\partial F_x \\over \\partial x} + {\\partial F_y \\over \\partial y} +  {\\partial F_z \\over \\partial z}  \\end{align}$"
   ]
  },
  {
   "attachments": {},
   "cell_type": "markdown",
   "id": "73b371a0-a6d1-48ae-96a2-8da694379ede",
   "metadata": {},
   "source": [
    "Finally curl, a vector field produced from a vector field which looks like the determinant of a 3 x 3 matrix.\n",
    "In fact Wikipedia refers to this as a *pseudo*-determinant:\n",
    "Top row is unit vectors, middle row is differential operators, bottom row is components of the vector field $\\mathbf{F}$.\n",
    "The appearance of a matrix suggests that this derivative business is a *linear operator*. \n",
    "\n",
    "\n",
    "$\\begin{align}\\vec{\\nabla} \\times \\mathbf{F} &= \\left(\\mathbf{e}_x \n",
    "{\\partial \\over \\partial x}\\times \\mathbf{F}\\right) + \\left(\\mathbf{e}_y {\\partial \\over \\partial y}\\times \\mathbf{F}\\right) + \n",
    "\\left(\\mathbf{e}_z {\\partial \\over \\partial z}\\times \\mathbf{F}\\right)\\\\\n",
    "&= {\\partial \\over \\partial x}(0, -F_z, F_y) + {\\partial \\over \\partial y}(F_z,0,-F_x) + {\\partial \\over \\partial z}(-F_y,F_x,0)\\\\\n",
    "&= \\left({\\partial F_z \\over \\partial y}-{\\partial F_y \\over \\partial z}\\right)\\mathbf{e}_x + \n",
    "\\left({\\partial F_x \\over \\partial z}-{\\partial F_z \\over \\partial x}\\right)\\mathbf{e}_y + \\left({\\partial F_y \\over \\partial x}-{\\partial F_x \\over \\partial y}\\right)\\mathbf{e}_z\n",
    "\\end{align}$"
   ]
  },
  {
   "cell_type": "markdown",
   "id": "508c1a47-9aa6-4a62-8ae9-dd389ad3904f",
   "metadata": {},
   "source": [
    "}$$"
   ]
  },
  {
   "cell_type": "markdown",
   "id": "073453a4-470d-4274-8957-91949ad41547",
   "metadata": {},
   "source": [
    "## Maxwell's equations\n",
    "\n",
    "\n",
    "Both electric and magnetic fields are *vector* fields with an associated direction.\n",
    "We have four Maxwell equations to ponder...\n",
    "\n",
    "\n",
    "$\\begin{align}\\vec{\\nabla} \\cdot \\vec{E} = \\frac{\\rho}{\\epsilon_{0}}\\end{align}$\n",
    "\n",
    "\n",
    "$p$ is implicitly a scalar field of charge density.\n",
    "\n",
    "\n",
    "$\\begin{align}\\vec{\\nabla} \\cdot \\vec{B} = 0\\end{align}$\n",
    "\n",
    "\n",
    "Implying the magnetic field is incompressible? How does this work? It is tied to this\n",
    "idea that magnetic field lines are closed loops; unlike electric charge they are not\n",
    "found to have sources or sinks. I think that term *incompressible* needs some further\n",
    "elaboration, however. \n",
    "\n",
    "\n",
    "$\\begin{align}\\vec{\\nabla} \\times \\vec{E} = -\\frac{\\partial \\vec{B}}{\\partial t}\\end{align}$\n",
    "\n",
    "\n",
    "$\\begin{align}\\vec{\\nabla} \\times \\vec{B} = \\mu_{0} \\bigl( \\vec{J} + \\epsilon_{0} \\frac{\\partial {\\vec{E}}}{\\partial t}\n",
    "\\bigr)\\end{align}$\n",
    "\n",
    "\n",
    "I think it behooves us to define the three items in these equations that are\n",
    "present but unaccounted for: $\\epsilon_{0}$, $\\mu_{0}$, and $\\vec{J}$.\n",
    "\n"
   ]
  }
 ],
 "metadata": {
  "kernelspec": {
   "display_name": "Python 3 (ipykernel)",
   "language": "python",
   "name": "python3"
  },
  "language_info": {
   "codemirror_mode": {
    "name": "ipython",
    "version": 3
   },
   "file_extension": ".py",
   "mimetype": "text/x-python",
   "name": "python",
   "nbconvert_exporter": "python",
   "pygments_lexer": "ipython3",
   "version": "3.12.2"
  }
 },
 "nbformat": 4,
 "nbformat_minor": 5
}
