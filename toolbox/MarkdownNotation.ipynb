{
 "cells": [
  {
   "cell_type": "markdown",
   "id": "80a868b2-14a0-4d4a-bb65-bcf81441cda6",
   "metadata": {},
   "source": [
    "# markdown notation\n",
    "\n",
    "How to write vector calculus expressions in markdown. \n",
    "\n",
    "Nabla: $\\nabla$ \n",
    "\n",
    "Nabla emphasizing vector $\\vec{\\nabla}$\n",
    "\n",
    "Partial written two ways: $\\frac{\\partial{Q}}{\\partial{t}}$ or $\\frac{\\partial Q}{\\partial t}$\n",
    "\n",
    "Larger writing: $\\Large{\\frac{\\partial{Q}}{\\partial{t}}}$.\n",
    "\n",
    "On a line by itself, left-justified: \n",
    "\n",
    "\n",
    "$\\begin{align}\\frac{\\partial{Q}}{\\partial{t}}\\end{align}$"
   ]
  },
  {
   "cell_type": "markdown",
   "id": "073453a4-470d-4274-8957-91949ad41547",
   "metadata": {},
   "source": [
    "## Maxwell's equations\n",
    "\n",
    "\n",
    "Both electric and magnetic fields are *vector* fields with an associated direction.\n",
    "We have four Maxwell equations to ponder...\n",
    "\n",
    "\n",
    "$\\begin{align}\\vec{\\nabla} \\cdot \\vec{E} = \\frac{\\rho}{\\epsilon_{0}}\\end{align}$\n",
    "\n",
    "\n",
    "$p$ is implicitly a scalar field of charge density.\n",
    "\n",
    "\n",
    "$\\begin{align}\\vec{\\nabla} \\cdot \\vec{B} = 0\\end{align}$\n",
    "\n",
    "\n",
    "Implying the magnetic field is incompressible? How does this work? It is tied to this\n",
    "idea that magnetic field lines are closed loops; unlike electric charge they are not\n",
    "found to have sources or sinks. I think that term *incompressible* needs some further\n",
    "elaboration, however. \n",
    "\n",
    "\n",
    "$\\begin{align}\\vec{\\nabla} \\times \\vec{E} = -\\frac{\\partial \\vec{B}}{\\partial t}\\end{align}$\n",
    "\n",
    "\n",
    "$\\begin{align}\\vec{\\nabla} \\times \\vec{B} = \\mu_{0} \\bigl( \\vec{J} + \\epsilon_{0} \\frac{\\partial {\\vec{E}}}{\\partial t}\n",
    "\\bigr)\\end{align}$\n",
    "\n",
    "\n",
    "I think it behooves us to define the three items in these equations that are\n",
    "present but unaccounted for: $\\epsilon_{0}$, $\\mu_{0}$, and $\\vec{J}$.\n",
    "\n"
   ]
  }
 ],
 "metadata": {
  "kernelspec": {
   "display_name": "Python 3 (ipykernel)",
   "language": "python",
   "name": "python3"
  },
  "language_info": {
   "codemirror_mode": {
    "name": "ipython",
    "version": 3
   },
   "file_extension": ".py",
   "mimetype": "text/x-python",
   "name": "python",
   "nbconvert_exporter": "python",
   "pygments_lexer": "ipython3",
   "version": "3.12.2"
  }
 },
 "nbformat": 4,
 "nbformat_minor": 5
}
